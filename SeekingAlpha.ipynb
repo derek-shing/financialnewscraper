{
  "nbformat": 4,
  "nbformat_minor": 0,
  "metadata": {
    "colab": {
      "name": "SeekingAlpha.ipynb",
      "version": "0.3.2",
      "provenance": [],
      "include_colab_link": true
    },
    "kernelspec": {
      "name": "python3",
      "display_name": "Python 3"
    }
  },
  "cells": [
    {
      "cell_type": "markdown",
      "metadata": {
        "id": "view-in-github",
        "colab_type": "text"
      },
      "source": [
        "<a href=\"https://colab.research.google.com/github/derek-shing/financialnewscraper/blob/master/SeekingAlpha.ipynb\" target=\"_parent\"><img src=\"https://colab.research.google.com/assets/colab-badge.svg\" alt=\"Open In Colab\"/></a>"
      ]
    },
    {
      "cell_type": "code",
      "metadata": {
        "id": "1KaCR7jUdSNN",
        "colab_type": "code",
        "colab": {}
      },
      "source": [
        "from  bs4 import BeautifulSoup\n",
        "import requests\n",
        "import pandas as pd\n",
        "import time\n",
        "from sqlalchemy import create_engine\n",
        "from sqlalchemy import MetaData, Table\n",
        "from sqlalchemy import Column, String, Integer\n",
        "from sqlalchemy.ext.declarative import declarative_base  \n",
        "from sqlalchemy.orm import sessionmaker\n"
      ],
      "execution_count": 0,
      "outputs": []
    },
    {
      "cell_type": "code",
      "metadata": {
        "id": "Z92JmK57AgfH",
        "colab_type": "code",
        "colab": {}
      },
      "source": [
        ""
      ],
      "execution_count": 0,
      "outputs": []
    },
    {
      "cell_type": "code",
      "metadata": {
        "id": "d9zux5eTdcYx",
        "colab_type": "code",
        "colab": {}
      },
      "source": [
        "url = \"https://seekingalpha.com/market-news\""
      ],
      "execution_count": 0,
      "outputs": []
    },
    {
      "cell_type": "code",
      "metadata": {
        "id": "aOLrssj5fx_x",
        "colab_type": "code",
        "colab": {}
      },
      "source": [
        "page = requests.get(url)\n",
        "soup = BeautifulSoup(page.text)"
      ],
      "execution_count": 0,
      "outputs": []
    },
    {
      "cell_type": "code",
      "metadata": {
        "id": "9rEiLd81idGo",
        "colab_type": "code",
        "colab": {}
      },
      "source": [
        ""
      ],
      "execution_count": 0,
      "outputs": []
    },
    {
      "cell_type": "code",
      "metadata": {
        "id": "Q4BYyELJgLxj",
        "colab_type": "code",
        "colab": {}
      },
      "source": [
        "news = soup.find(name=\"ul\", attrs={'class':\"item-list\",'id':'latest-news-list'})"
      ],
      "execution_count": 0,
      "outputs": []
    },
    {
      "cell_type": "code",
      "metadata": {
        "id": "WdhU68Qlk8Kn",
        "colab_type": "code",
        "colab": {}
      },
      "source": [
        "news.fin"
      ],
      "execution_count": 0,
      "outputs": []
    },
    {
      "cell_type": "code",
      "metadata": {
        "id": "S2grt18af4Rf",
        "colab_type": "code",
        "colab": {}
      },
      "source": [
        "root = \"https://seekingalpha.com\"\n",
        "heading_list = [i.text for i in news.find_all('a')]\n",
        "url_list = [root+i['href'] for i in news.find_all('a')]\n",
        "date_list = [i.text for i in news.find_all(name='span', attrs={'class':\"item-date\"})]\n"
      ],
      "execution_count": 0,
      "outputs": []
    },
    {
      "cell_type": "code",
      "metadata": {
        "id": "aKk_o2-YkUMj",
        "colab_type": "code",
        "colab": {}
      },
      "source": [
        "def getcontext(url):\n",
        "  soup = BeautifulSoup(requests.get(url).text)\n",
        "  contexts = soup.find_all(name='p', attrs={\"class\":\"bullets_li\"})\n",
        "  i=0\n",
        "  while (len(contexts)==0 and i<20 ):\n",
        "    soup = BeautifulSoup(requests.get(url).text)\n",
        "    contexts = soup.find_all(name='p', attrs={\"class\":\"bullets_li\"})\n",
        "    i+=1\n",
        "  context = [i.text for i in contexts]\n",
        "  return context"
      ],
      "execution_count": 0,
      "outputs": []
    },
    {
      "cell_type": "code",
      "metadata": {
        "id": "Vuucq9oFpd8w",
        "colab_type": "code",
        "colab": {
          "base_uri": "https://localhost:8080/",
          "height": 34
        },
        "outputId": "9560ab7d-1fc6-4b01-8781-9e7facf4c125"
      },
      "source": [
        "url_list[0]"
      ],
      "execution_count": 18,
      "outputs": [
        {
          "output_type": "execute_result",
          "data": {
            "text/plain": [
              "'https://seekingalpha.com/news/3479478-meeting-huawei-ban-white-house'"
            ]
          },
          "metadata": {
            "tags": []
          },
          "execution_count": 18
        }
      ]
    },
    {
      "cell_type": "code",
      "metadata": {
        "id": "VxpoH5dDrzpb",
        "colab_type": "code",
        "colab": {
          "base_uri": "https://localhost:8080/",
          "height": 34
        },
        "outputId": "f8e7d095-50b1-4dba-d3b1-480bc99aee11"
      },
      "source": [
        "len(url_list)"
      ],
      "execution_count": 19,
      "outputs": [
        {
          "output_type": "execute_result",
          "data": {
            "text/plain": [
              "60"
            ]
          },
          "metadata": {
            "tags": []
          },
          "execution_count": 19
        }
      ]
    },
    {
      "cell_type": "code",
      "metadata": {
        "id": "6r1NRZ7Kr5ip",
        "colab_type": "code",
        "colab": {}
      },
      "source": [
        ""
      ],
      "execution_count": 0,
      "outputs": []
    },
    {
      "cell_type": "code",
      "metadata": {
        "id": "psm8ZFN1pSN4",
        "colab_type": "code",
        "colab": {
          "base_uri": "https://localhost:8080/",
          "height": 122
        },
        "outputId": "a83ded5c-3996-4caf-d793-6e64b32e2638"
      },
      "source": [
        "getcontext(url_list[2])"
      ],
      "execution_count": 20,
      "outputs": [
        {
          "output_type": "execute_result",
          "data": {
            "text/plain": [
              "['Carlos Ghosn has launched a court case in the Netherlands against Japanese carmakers Nissan (OTCPK:NSANY) and Mitsubishi (OTC:MMTOY), seeking €15M in damages from the carmakers, which ousted him as chairman of their alliance last year on charges of embezzlement.',\n",
              " '\"In the Netherlands, if you want to fire an executive you have to first tell him what he\\'s being accused of, and you have to provide him with the evidence for the accusations. Neither of those things has happened,\" lawyer Laurens de Graaf told Dutch newspaper NRC.',\n",
              " 'Click to subscribe to real-time analytics on NSANY',\n",
              " 'Now read: The Options Market Has A Glimmer Of Hope For Tesla Bulls »',\n",
              " 'Subscribe for full text news in your inbox']"
            ]
          },
          "metadata": {
            "tags": []
          },
          "execution_count": 20
        }
      ]
    },
    {
      "cell_type": "code",
      "metadata": {
        "id": "NQ8PxRkgqVBt",
        "colab_type": "code",
        "colab": {}
      },
      "source": [
        "point_list =[getcontext(i) for i in url_list]"
      ],
      "execution_count": 0,
      "outputs": []
    },
    {
      "cell_type": "code",
      "metadata": {
        "id": "qnrup-VxqduF",
        "colab_type": "code",
        "colab": {}
      },
      "source": [
        "point_list"
      ],
      "execution_count": 0,
      "outputs": []
    },
    {
      "cell_type": "code",
      "metadata": {
        "id": "wLaK5PM9w7UT",
        "colab_type": "code",
        "colab": {}
      },
      "source": [
        "d={\"date\":date_list,\"heading\":heading_list,\"url\":url_list,\"summary\":point_list}"
      ],
      "execution_count": 0,
      "outputs": []
    },
    {
      "cell_type": "code",
      "metadata": {
        "id": "gFTKwYw9kJw5",
        "colab_type": "code",
        "colab": {}
      },
      "source": [
        "df = pd.DataFrame(d)"
      ],
      "execution_count": 0,
      "outputs": []
    },
    {
      "cell_type": "code",
      "metadata": {
        "id": "OLn3hiL9xO2v",
        "colab_type": "code",
        "colab": {
          "base_uri": "https://localhost:8080/",
          "height": 204
        },
        "outputId": "307c3cc3-6267-4fcb-f06d-b3b5f41c1db1"
      },
      "source": [
        "df.head(5)"
      ],
      "execution_count": 25,
      "outputs": [
        {
          "output_type": "execute_result",
          "data": {
            "text/html": [
              "<div>\n",
              "<style scoped>\n",
              "    .dataframe tbody tr th:only-of-type {\n",
              "        vertical-align: middle;\n",
              "    }\n",
              "\n",
              "    .dataframe tbody tr th {\n",
              "        vertical-align: top;\n",
              "    }\n",
              "\n",
              "    .dataframe thead th {\n",
              "        text-align: right;\n",
              "    }\n",
              "</style>\n",
              "<table border=\"1\" class=\"dataframe\">\n",
              "  <thead>\n",
              "    <tr style=\"text-align: right;\">\n",
              "      <th></th>\n",
              "      <th>date</th>\n",
              "      <th>heading</th>\n",
              "      <th>url</th>\n",
              "      <th>summary</th>\n",
              "    </tr>\n",
              "  </thead>\n",
              "  <tbody>\n",
              "    <tr>\n",
              "      <th>0</th>\n",
              "      <td>Today, 9:35 AM</td>\n",
              "      <td>Meeting on Huawei ban at the White House</td>\n",
              "      <td>https://seekingalpha.com/news/3479478-meeting-...</td>\n",
              "      <td>[White House economic adviser Larry Kudlow wil...</td>\n",
              "    </tr>\n",
              "    <tr>\n",
              "      <th>1</th>\n",
              "      <td>Today, 9:23 AM</td>\n",
              "      <td>Google fined over YouTube kids privacy - WP</td>\n",
              "      <td>https://seekingalpha.com/news/3479477-google-f...</td>\n",
              "      <td>[The Federal Trade Commission has finalized a ...</td>\n",
              "    </tr>\n",
              "    <tr>\n",
              "      <th>2</th>\n",
              "      <td>Today, 8:27 AM</td>\n",
              "      <td>Carlos Ghosn sues Nissan-Mitsubishi</td>\n",
              "      <td>https://seekingalpha.com/news/3479476-carlos-g...</td>\n",
              "      <td>[Carlos Ghosn has launched a court case in the...</td>\n",
              "    </tr>\n",
              "    <tr>\n",
              "      <th>3</th>\n",
              "      <td>Today, 8:20 AM</td>\n",
              "      <td>Next courtroom battle for Johnson &amp; Johnson</td>\n",
              "      <td>https://seekingalpha.com/news/3479475-next-cou...</td>\n",
              "      <td>[Facing thousands of lawsuits over the safety ...</td>\n",
              "    </tr>\n",
              "    <tr>\n",
              "      <th>4</th>\n",
              "      <td>Today, 8:05 AM</td>\n",
              "      <td>'Endgame' highest-grossing film ever</td>\n",
              "      <td>https://seekingalpha.com/news/3479474-endgame-...</td>\n",
              "      <td>[Avengers: Endgame will claim the top of the g...</td>\n",
              "    </tr>\n",
              "  </tbody>\n",
              "</table>\n",
              "</div>"
            ],
            "text/plain": [
              "             date  ...                                            summary\n",
              "0  Today, 9:35 AM  ...  [White House economic adviser Larry Kudlow wil...\n",
              "1  Today, 9:23 AM  ...  [The Federal Trade Commission has finalized a ...\n",
              "2  Today, 8:27 AM  ...  [Carlos Ghosn has launched a court case in the...\n",
              "3  Today, 8:20 AM  ...  [Facing thousands of lawsuits over the safety ...\n",
              "4  Today, 8:05 AM  ...  [Avengers: Endgame will claim the top of the g...\n",
              "\n",
              "[5 rows x 4 columns]"
            ]
          },
          "metadata": {
            "tags": []
          },
          "execution_count": 25
        }
      ]
    },
    {
      "cell_type": "code",
      "metadata": {
        "id": "7xppTzFRtmBh",
        "colab_type": "code",
        "colab": {}
      },
      "source": [
        "POSTGRES_ADDRESS = 'dbtest.c0odp5hguxv4.us-west-2.rds.amazonaws.com' ## INSERT YOUR DB ADDRESS IF IT'S NOT ON PANOPLY \n",
        "POSTGRES_PORT = '5432' \n",
        "POSTGRES_USERNAME = \"derek\" ## CHANGE THIS TO YOUR PANOPLY/POSTGRES USERNAME\n",
        "POSTGRES_PASSWORD = 'temp1234' ## CHANGE THIS TO YOUR PANOPLY/POSTGRES PASSWORD \n",
        "POSTGRES_DBNAME = 'financial' ## CHANGE THIS TO YOUR DATABASE NAME \n",
        "# A long string that contains the necessary Postgres login information \n",
        "postgres_str = ('postgresql://{username}:{password}@{ipaddress}:{port}/{dbname}'.format(username=POSTGRES_USERNAME, password=POSTGRES_PASSWORD, ipaddress=POSTGRES_ADDRESS,port=POSTGRES_PORT, dbname=POSTGRES_DBNAME)) "
      ],
      "execution_count": 0,
      "outputs": []
    },
    {
      "cell_type": "code",
      "metadata": {
        "id": "d_Bj9jrkxP5_",
        "colab_type": "code",
        "colab": {}
      },
      "source": [
        "db =create_engine(postgres_str)"
      ],
      "execution_count": 0,
      "outputs": []
    },
    {
      "cell_type": "code",
      "metadata": {
        "id": "miJ3udrKIRRW",
        "colab_type": "code",
        "colab": {}
      },
      "source": [
        "base.metadata.drop_all(db)"
      ],
      "execution_count": 0,
      "outputs": []
    },
    {
      "cell_type": "code",
      "metadata": {
        "id": "78g10NU10Ra1",
        "colab_type": "code",
        "colab": {}
      },
      "source": [
        "\n",
        "base = declarative_base()\n",
        "\n",
        "class News2(base): \n",
        "    __tablename__ = 'news'\n",
        "    new_id = Column(Integer, primary_key=True)\n",
        "    date = Column(String)\n",
        "    heading = Column(String)\n",
        "    url = Column(String)\n",
        "    summary = Column(String)\n",
        "\n",
        "Session = sessionmaker(db)  \n",
        "session = Session()\n",
        "\n",
        "base.metadata.create_all(db)\n",
        "session.commit()\n",
        "\n",
        "for index,row in df.iterrows():\n",
        "  new = News2(new_id= index, date=row['date'], heading=row['heading'], summary=row['summary'],url=row['url'])  \n",
        "  session.add(new)  \n",
        "  session.commit()\n",
        "\n",
        "# Read\n",
        "#news_in_db = session.query(News)  \n",
        "#for new in news_in_db:  \n",
        "#    print(new.heading)\n",
        "\n",
        "# Update\n",
        "#doctor_strange.title = \"Some2016Film\"  \n",
        "#session.commit()\n",
        "\n",
        "# Delete\n",
        "#session.delete(doctor_strange)  \n",
        "#session.commit()"
      ],
      "execution_count": 0,
      "outputs": []
    }
  ]
}