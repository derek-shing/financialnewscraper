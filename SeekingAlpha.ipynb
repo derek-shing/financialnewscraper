{
  "nbformat": 4,
  "nbformat_minor": 0,
  "metadata": {
    "colab": {
      "name": "SeekingAlpha.ipynb",
      "version": "0.3.2",
      "provenance": [],
      "include_colab_link": true
    },
    "kernelspec": {
      "name": "python3",
      "display_name": "Python 3"
    }
  },
  "cells": [
    {
      "cell_type": "markdown",
      "metadata": {
        "id": "view-in-github",
        "colab_type": "text"
      },
      "source": [
        "<a href=\"https://colab.research.google.com/github/derek-shing/financialnewscraper/blob/master/SeekingAlpha.ipynb\" target=\"_parent\"><img src=\"https://colab.research.google.com/assets/colab-badge.svg\" alt=\"Open In Colab\"/></a>"
      ]
    },
    {
      "cell_type": "code",
      "metadata": {
        "id": "1KaCR7jUdSNN",
        "colab_type": "code",
        "colab": {}
      },
      "source": [
        "from  bs4 import BeautifulSoup\n",
        "import requests\n",
        "import pandas as pd\n",
        "import time\n",
        "from sqlalchemy import create_engine\n",
        "from sqlalchemy import MetaData, Table\n",
        "from sqlalchemy import Column, String, Integer\n",
        "from sqlalchemy.ext.declarative import declarative_base  \n",
        "from sqlalchemy.orm import sessionmaker\n",
        "import datetime\n"
      ],
      "execution_count": 0,
      "outputs": []
    },
    {
      "cell_type": "code",
      "metadata": {
        "id": "4yyiFtOL9UDN",
        "colab_type": "code",
        "colab": {}
      },
      "source": [
        "yesterday = datetime.datetime.today().date() -datetime.timedelta(days=1)\n",
        "yesterday =yesterday.strftime(\"%m-%d-%Y\")"
      ],
      "execution_count": 0,
      "outputs": []
    },
    {
      "cell_type": "code",
      "metadata": {
        "id": "tRwL1mXB_DR6",
        "colab_type": "code",
        "outputId": "b953e383-30f0-4beb-f981-d1dcfdcdb005",
        "colab": {
          "base_uri": "https://localhost:8080/",
          "height": 34
        }
      },
      "source": [
        "yesterday"
      ],
      "execution_count": 0,
      "outputs": [
        {
          "output_type": "execute_result",
          "data": {
            "text/plain": [
              "'07-23-2019'"
            ]
          },
          "metadata": {
            "tags": []
          },
          "execution_count": 49
        }
      ]
    },
    {
      "cell_type": "code",
      "metadata": {
        "id": "Z92JmK57AgfH",
        "colab_type": "code",
        "colab": {}
      },
      "source": [
        "\n",
        "today = datetime.datetime.now().strftime(\"%m-%d-%Y\")"
      ],
      "execution_count": 0,
      "outputs": []
    },
    {
      "cell_type": "code",
      "metadata": {
        "id": "d9zux5eTdcYx",
        "colab_type": "code",
        "colab": {}
      },
      "source": [
        "url = \"https://seekingalpha.com/market-news\""
      ],
      "execution_count": 0,
      "outputs": []
    },
    {
      "cell_type": "code",
      "metadata": {
        "id": "aOLrssj5fx_x",
        "colab_type": "code",
        "colab": {}
      },
      "source": [
        "page = requests.get(url)\n",
        "soup = BeautifulSoup(page.text)"
      ],
      "execution_count": 0,
      "outputs": []
    },
    {
      "cell_type": "code",
      "metadata": {
        "id": "9rEiLd81idGo",
        "colab_type": "code",
        "colab": {}
      },
      "source": [
        ""
      ],
      "execution_count": 0,
      "outputs": []
    },
    {
      "cell_type": "code",
      "metadata": {
        "id": "aFMRMuBx_fKF",
        "colab_type": "code",
        "colab": {}
      },
      "source": [
        "date_list2 = [i.split()[0] for i in date_list]"
      ],
      "execution_count": 0,
      "outputs": []
    },
    {
      "cell_type": "code",
      "metadata": {
        "id": "AnfP3hJ-B73D",
        "colab_type": "code",
        "colab": {}
      },
      "source": [
        "date_list2"
      ],
      "execution_count": 0,
      "outputs": []
    },
    {
      "cell_type": "code",
      "metadata": {
        "id": "Q4BYyELJgLxj",
        "colab_type": "code",
        "colab": {}
      },
      "source": [
        "news = soup.find(name=\"ul\", attrs={'class':\"item-list\",'id':'latest-news-list'})"
      ],
      "execution_count": 0,
      "outputs": []
    },
    {
      "cell_type": "code",
      "metadata": {
        "id": "WdhU68Qlk8Kn",
        "colab_type": "code",
        "colab": {}
      },
      "source": [
        "news.fin"
      ],
      "execution_count": 0,
      "outputs": []
    },
    {
      "cell_type": "code",
      "metadata": {
        "id": "S2grt18af4Rf",
        "colab_type": "code",
        "colab": {}
      },
      "source": [
        "root = \"https://seekingalpha.com\"\n",
        "id_list = [i['id'] for i in news.find_all(name='li', attrs={'class':'item'})]\n",
        "heading_list = [i.text for i in news.find_all('a')]\n",
        "url_list = [root+i['href'] for i in news.find_all('a')]\n",
        "date_list = [i['data-last-date'] for i in news.find_all(name='li', attrs={'class':'item'})]\n"
      ],
      "execution_count": 0,
      "outputs": []
    },
    {
      "cell_type": "code",
      "metadata": {
        "id": "hAC0zMdJfccr",
        "colab_type": "code",
        "colab": {}
      },
      "source": [
        "date_list"
      ],
      "execution_count": 0,
      "outputs": []
    },
    {
      "cell_type": "code",
      "metadata": {
        "id": "muQoX-Nw5hdv",
        "colab_type": "code",
        "colab": {}
      },
      "source": [
        "id_list2 = [i.split('-')[2] for i in id_list]"
      ],
      "execution_count": 0,
      "outputs": []
    },
    {
      "cell_type": "code",
      "metadata": {
        "id": "jk_Ezeo66CXy",
        "colab_type": "code",
        "colab": {}
      },
      "source": [
        "id_list2"
      ],
      "execution_count": 0,
      "outputs": []
    },
    {
      "cell_type": "code",
      "metadata": {
        "id": "aKk_o2-YkUMj",
        "colab_type": "code",
        "colab": {}
      },
      "source": [
        "def getcontext(url):\n",
        "  soup = BeautifulSoup(requests.get(url).text)\n",
        "  contexts = soup.find_all(name='p', attrs={\"class\":\"bullets_li\"})\n",
        "  i=0\n",
        "  while (len(contexts)==0 and i<20 ):\n",
        "    soup = BeautifulSoup(requests.get(url).text)\n",
        "    contexts = soup.find_all(name='p', attrs={\"class\":\"bullets_li\"})\n",
        "    i+=1\n",
        "  context = [i.text for i in contexts]\n",
        "  return context"
      ],
      "execution_count": 0,
      "outputs": []
    },
    {
      "cell_type": "code",
      "metadata": {
        "id": "q0yIAdr9eKME",
        "colab_type": "code",
        "colab": {}
      },
      "source": [
        ""
      ],
      "execution_count": 0,
      "outputs": []
    },
    {
      "cell_type": "code",
      "metadata": {
        "id": "Vuucq9oFpd8w",
        "colab_type": "code",
        "outputId": "73e70fcd-1713-4da2-9725-c918a17f68f4",
        "colab": {
          "base_uri": "https://localhost:8080/",
          "height": 34
        }
      },
      "source": [
        "url_list[0]"
      ],
      "execution_count": 21,
      "outputs": [
        {
          "output_type": "execute_result",
          "data": {
            "text/plain": [
              "'https://seekingalpha.com/news/3490062-eidos-plus-15_4-percent-bridgebio-floats-takeout-20-percent-premium'"
            ]
          },
          "metadata": {
            "tags": []
          },
          "execution_count": 21
        }
      ]
    },
    {
      "cell_type": "code",
      "metadata": {
        "id": "VxpoH5dDrzpb",
        "colab_type": "code",
        "outputId": "be4f01b7-c209-4187-b3d5-6e6e68d27355",
        "colab": {
          "base_uri": "https://localhost:8080/",
          "height": 34
        }
      },
      "source": [
        "len(url_list)"
      ],
      "execution_count": 10,
      "outputs": [
        {
          "output_type": "execute_result",
          "data": {
            "text/plain": [
              "60"
            ]
          },
          "metadata": {
            "tags": []
          },
          "execution_count": 10
        }
      ]
    },
    {
      "cell_type": "code",
      "metadata": {
        "id": "6r1NRZ7Kr5ip",
        "colab_type": "code",
        "colab": {}
      },
      "source": [
        ""
      ],
      "execution_count": 0,
      "outputs": []
    },
    {
      "cell_type": "code",
      "metadata": {
        "id": "psm8ZFN1pSN4",
        "colab_type": "code",
        "outputId": "a83ded5c-3996-4caf-d793-6e64b32e2638",
        "colab": {
          "base_uri": "https://localhost:8080/",
          "height": 122
        }
      },
      "source": [
        "getcontext(url_list[2])"
      ],
      "execution_count": 0,
      "outputs": [
        {
          "output_type": "execute_result",
          "data": {
            "text/plain": [
              "['Carlos Ghosn has launched a court case in the Netherlands against Japanese carmakers Nissan (OTCPK:NSANY) and Mitsubishi (OTC:MMTOY), seeking €15M in damages from the carmakers, which ousted him as chairman of their alliance last year on charges of embezzlement.',\n",
              " '\"In the Netherlands, if you want to fire an executive you have to first tell him what he\\'s being accused of, and you have to provide him with the evidence for the accusations. Neither of those things has happened,\" lawyer Laurens de Graaf told Dutch newspaper NRC.',\n",
              " 'Click to subscribe to real-time analytics on NSANY',\n",
              " 'Now read: The Options Market Has A Glimmer Of Hope For Tesla Bulls »',\n",
              " 'Subscribe for full text news in your inbox']"
            ]
          },
          "metadata": {
            "tags": []
          },
          "execution_count": 20
        }
      ]
    },
    {
      "cell_type": "code",
      "metadata": {
        "id": "NQ8PxRkgqVBt",
        "colab_type": "code",
        "colab": {}
      },
      "source": [
        "point_list =[getcontext(i) for i in url_list]"
      ],
      "execution_count": 0,
      "outputs": []
    },
    {
      "cell_type": "code",
      "metadata": {
        "id": "qnrup-VxqduF",
        "colab_type": "code",
        "colab": {}
      },
      "source": [
        "point_list"
      ],
      "execution_count": 0,
      "outputs": []
    },
    {
      "cell_type": "code",
      "metadata": {
        "id": "wLaK5PM9w7UT",
        "colab_type": "code",
        "colab": {}
      },
      "source": [
        "d={\"id\":id_list2,\"date\":date_list2,\"heading\":heading_list,\"url\":url_list,\"summary\":point_list}"
      ],
      "execution_count": 0,
      "outputs": []
    },
    {
      "cell_type": "code",
      "metadata": {
        "id": "gFTKwYw9kJw5",
        "colab_type": "code",
        "colab": {}
      },
      "source": [
        "df = pd.DataFrame(d)"
      ],
      "execution_count": 0,
      "outputs": []
    },
    {
      "cell_type": "code",
      "metadata": {
        "id": "OLn3hiL9xO2v",
        "colab_type": "code",
        "outputId": "489092aa-1462-4ba5-b630-2768f36eb273",
        "colab": {
          "base_uri": "https://localhost:8080/",
          "height": 289
        }
      },
      "source": [
        "df.head(5)"
      ],
      "execution_count": 26,
      "outputs": [
        {
          "output_type": "execute_result",
          "data": {
            "text/html": [
              "<div>\n",
              "<style scoped>\n",
              "    .dataframe tbody tr th:only-of-type {\n",
              "        vertical-align: middle;\n",
              "    }\n",
              "\n",
              "    .dataframe tbody tr th {\n",
              "        vertical-align: top;\n",
              "    }\n",
              "\n",
              "    .dataframe thead th {\n",
              "        text-align: right;\n",
              "    }\n",
              "</style>\n",
              "<table border=\"1\" class=\"dataframe\">\n",
              "  <thead>\n",
              "    <tr style=\"text-align: right;\">\n",
              "      <th></th>\n",
              "      <th>id</th>\n",
              "      <th>date</th>\n",
              "      <th>heading</th>\n",
              "      <th>url</th>\n",
              "      <th>summary</th>\n",
              "    </tr>\n",
              "  </thead>\n",
              "  <tbody>\n",
              "    <tr>\n",
              "      <th>0</th>\n",
              "      <td>3490062</td>\n",
              "      <td>2019-08-08</td>\n",
              "      <td>Eidos +15.4% as BridgeBio floats takeout at 20...</td>\n",
              "      <td>https://seekingalpha.com/news/3490062-eidos-pl...</td>\n",
              "      <td>[Eidos Therapeutics (NASDAQ:EIDX) is up 15.4% ...</td>\n",
              "    </tr>\n",
              "    <tr>\n",
              "      <th>1</th>\n",
              "      <td>3490061</td>\n",
              "      <td>2019-08-08</td>\n",
              "      <td>Nat gas bounces off three-year lows after smal...</td>\n",
              "      <td>https://seekingalpha.com/news/3490061-nat-gas-...</td>\n",
              "      <td>[U.S. natural gas futures (NYSEARCA:UNG) settl...</td>\n",
              "    </tr>\n",
              "    <tr>\n",
              "      <th>2</th>\n",
              "      <td>3490059</td>\n",
              "      <td>2019-08-08</td>\n",
              "      <td>Denison Mines EPS in-line, misses on revenue</td>\n",
              "      <td>https://seekingalpha.com/news/3490059-denison-...</td>\n",
              "      <td>[Denison Mines (NYSEMKT:DNN): Q2 GAAP EPS of -...</td>\n",
              "    </tr>\n",
              "    <tr>\n",
              "      <th>3</th>\n",
              "      <td>3490056</td>\n",
              "      <td>2019-08-08</td>\n",
              "      <td>Hudbay Minerals declares CAD 0.01 dividend</td>\n",
              "      <td>https://seekingalpha.com/news/3490056-hudbay-m...</td>\n",
              "      <td>[Hudbay Minerals (NYSE:HBM) declares CAD 0.01/...</td>\n",
              "    </tr>\n",
              "    <tr>\n",
              "      <th>4</th>\n",
              "      <td>3490055</td>\n",
              "      <td>2019-08-08</td>\n",
              "      <td>James Hardie EPS beats by $0.01, beats on revenue</td>\n",
              "      <td>https://seekingalpha.com/news/3490055-james-ha...</td>\n",
              "      <td>[James Hardie (NYSE:JHX): Q1 GAAP EPS of $0.20...</td>\n",
              "    </tr>\n",
              "  </tbody>\n",
              "</table>\n",
              "</div>"
            ],
            "text/plain": [
              "        id  ...                                            summary\n",
              "0  3490062  ...  [Eidos Therapeutics (NASDAQ:EIDX) is up 15.4% ...\n",
              "1  3490061  ...  [U.S. natural gas futures (NYSEARCA:UNG) settl...\n",
              "2  3490059  ...  [Denison Mines (NYSEMKT:DNN): Q2 GAAP EPS of -...\n",
              "3  3490056  ...  [Hudbay Minerals (NYSE:HBM) declares CAD 0.01/...\n",
              "4  3490055  ...  [James Hardie (NYSE:JHX): Q1 GAAP EPS of $0.20...\n",
              "\n",
              "[5 rows x 5 columns]"
            ]
          },
          "metadata": {
            "tags": []
          },
          "execution_count": 26
        }
      ]
    },
    {
      "cell_type": "code",
      "metadata": {
        "id": "OnCv02Z37IAK",
        "colab_type": "code",
        "colab": {}
      },
      "source": [
        ""
      ],
      "execution_count": 0,
      "outputs": []
    },
    {
      "cell_type": "code",
      "metadata": {
        "id": "7xppTzFRtmBh",
        "colab_type": "code",
        "colab": {}
      },
      "source": [
        "POSTGRES_ADDRESS = 'dbtest.c0odp5hguxv4.us-west-2.rds.amazonaws.com' ## INSERT YOUR DB ADDRESS IF IT'S NOT ON PANOPLY \n",
        "POSTGRES_PORT = '5432' \n",
        "POSTGRES_USERNAME = \"derek\" ## CHANGE THIS TO YOUR PANOPLY/POSTGRES USERNAME\n",
        "POSTGRES_PASSWORD = 'temp1234' ## CHANGE THIS TO YOUR PANOPLY/POSTGRES PASSWORD \n",
        "POSTGRES_DBNAME = 'financial' ## CHANGE THIS TO YOUR DATABASE NAME \n",
        "# A long string that contains the necessary Postgres login information \n",
        "postgres_str = ('postgresql://{username}:{password}@{ipaddress}:{port}/{dbname}'.format(username=POSTGRES_USERNAME, password=POSTGRES_PASSWORD, ipaddress=POSTGRES_ADDRESS,port=POSTGRES_PORT, dbname=POSTGRES_DBNAME)) "
      ],
      "execution_count": 0,
      "outputs": []
    },
    {
      "cell_type": "code",
      "metadata": {
        "id": "d_Bj9jrkxP5_",
        "colab_type": "code",
        "outputId": "2f115617-71a8-4f66-a412-dc25eb8ef187",
        "colab": {
          "base_uri": "https://localhost:8080/",
          "height": 71
        }
      },
      "source": [
        "db =create_engine(postgres_str)"
      ],
      "execution_count": 3,
      "outputs": [
        {
          "output_type": "stream",
          "text": [
            "/usr/local/lib/python3.6/dist-packages/psycopg2/__init__.py:144: UserWarning: The psycopg2 wheel package will be renamed from release 2.8; in order to keep installing from binary please use \"pip install psycopg2-binary\" instead. For details see: <http://initd.org/psycopg/docs/install.html#binary-install-from-pypi>.\n",
            "  \"\"\")\n"
          ],
          "name": "stderr"
        }
      ]
    },
    {
      "cell_type": "code",
      "metadata": {
        "id": "miJ3udrKIRRW",
        "colab_type": "code",
        "colab": {
          "base_uri": "https://localhost:8080/",
          "height": 168
        },
        "outputId": "61f565d8-afe9-4e00-8e47-b46fa7a6adea"
      },
      "source": [
        "base.metadata.drop_all(db)"
      ],
      "execution_count": 4,
      "outputs": [
        {
          "output_type": "error",
          "ename": "NameError",
          "evalue": "ignored",
          "traceback": [
            "\u001b[0;31m---------------------------------------------------------------------------\u001b[0m",
            "\u001b[0;31mNameError\u001b[0m                                 Traceback (most recent call last)",
            "\u001b[0;32m<ipython-input-4-280a054c008f>\u001b[0m in \u001b[0;36m<module>\u001b[0;34m()\u001b[0m\n\u001b[0;32m----> 1\u001b[0;31m \u001b[0mbase\u001b[0m\u001b[0;34m.\u001b[0m\u001b[0mmetadata\u001b[0m\u001b[0;34m.\u001b[0m\u001b[0mdrop_all\u001b[0m\u001b[0;34m(\u001b[0m\u001b[0mdb\u001b[0m\u001b[0;34m)\u001b[0m\u001b[0;34m\u001b[0m\u001b[0;34m\u001b[0m\u001b[0m\n\u001b[0m",
            "\u001b[0;31mNameError\u001b[0m: name 'base' is not defined"
          ]
        }
      ]
    },
    {
      "cell_type": "code",
      "metadata": {
        "id": "78g10NU10Ra1",
        "colab_type": "code",
        "colab": {}
      },
      "source": [
        "\n",
        "base = declarative_base()\n",
        "\n",
        "class News2(base): \n",
        "    __tablename__ = 'news'\n",
        "    new_id = Column(Integer, primary_key=True)\n",
        "    date = Column(String)\n",
        "    heading = Column(String)\n",
        "    url = Column(String)\n",
        "    summary = Column(String)\n",
        "\n",
        "Session = sessionmaker(db)  \n",
        "session = Session()\n",
        "\n",
        "base.metadata.create_all(db)\n",
        "session.commit()\n",
        "\n",
        "\n",
        "\n",
        "\n",
        "\n",
        "# Update\n",
        "#doctor_strange.title = \"Some2016Film\"  \n",
        "#session.commit()\n",
        "\n",
        "# Delete\n",
        "#session.delete(doctor_strange)  \n",
        "#session.commit()"
      ],
      "execution_count": 0,
      "outputs": []
    },
    {
      "cell_type": "code",
      "metadata": {
        "id": "G4bsqSXBdxr5",
        "colab_type": "code",
        "colab": {}
      },
      "source": [
        "for index,row in df.iterrows():\n",
        "  new = News2(new_id= row['id'], date=row['date'], heading=row['heading'], summary=row['summary'],url=row['url'])  \n",
        "  session.add(new)  \n",
        "  session.commit()"
      ],
      "execution_count": 0,
      "outputs": []
    },
    {
      "cell_type": "code",
      "metadata": {
        "id": "7dkUdEM5cUUy",
        "colab_type": "code",
        "colab": {}
      },
      "source": [
        "# Read\n",
        "news_in_db = session.query(News2)  \n",
        "for new in news_in_db:  \n",
        "    print(new.new_id)"
      ],
      "execution_count": 0,
      "outputs": []
    },
    {
      "cell_type": "code",
      "metadata": {
        "id": "PAI-ZG5IeMLU",
        "colab_type": "code",
        "colab": {}
      },
      "source": [
        "#Define a function to check if a new ID exist in the DB\n",
        "\n",
        "def db_contain_news(new_id):\n",
        "  return session.query(News2).filter(News2.new_id==new_id).count()\n",
        "  "
      ],
      "execution_count": 0,
      "outputs": []
    },
    {
      "cell_type": "code",
      "metadata": {
        "id": "opAlliWdfrMH",
        "colab_type": "code",
        "colab": {
          "base_uri": "https://localhost:8080/",
          "height": 34
        },
        "outputId": "4f11df76-7e3c-4577-b9b3-9417f54eb457"
      },
      "source": [
        "db_contain_news(3490062)"
      ],
      "execution_count": 43,
      "outputs": [
        {
          "output_type": "execute_result",
          "data": {
            "text/plain": [
              "1"
            ]
          },
          "metadata": {
            "tags": []
          },
          "execution_count": 43
        }
      ]
    }
  ]
}