{
  "nbformat": 4,
  "nbformat_minor": 0,
  "metadata": {
    "colab": {
      "name": "SeekingAlpha.ipynb",
      "version": "0.3.2",
      "provenance": [],
      "include_colab_link": true
    },
    "kernelspec": {
      "name": "python3",
      "display_name": "Python 3"
    }
  },
  "cells": [
    {
      "cell_type": "markdown",
      "metadata": {
        "id": "view-in-github",
        "colab_type": "text"
      },
      "source": [
        "<a href=\"https://colab.research.google.com/github/derek-shing/financialnewscraper/blob/master/SeekingAlpha.ipynb\" target=\"_parent\"><img src=\"https://colab.research.google.com/assets/colab-badge.svg\" alt=\"Open In Colab\"/></a>"
      ]
    },
    {
      "cell_type": "code",
      "metadata": {
        "id": "1KaCR7jUdSNN",
        "colab_type": "code",
        "colab": {}
      },
      "source": [
        "from  bs4 import BeautifulSoup\n",
        "import requests\n",
        "import pandas as pd\n",
        "import time\n"
      ],
      "execution_count": 0,
      "outputs": []
    },
    {
      "cell_type": "code",
      "metadata": {
        "id": "d9zux5eTdcYx",
        "colab_type": "code",
        "colab": {}
      },
      "source": [
        "url = \"https://seekingalpha.com/market-news\""
      ],
      "execution_count": 0,
      "outputs": []
    },
    {
      "cell_type": "code",
      "metadata": {
        "id": "aOLrssj5fx_x",
        "colab_type": "code",
        "colab": {}
      },
      "source": [
        "page = requests.get(url)\n",
        "soup = BeautifulSoup(page.text)"
      ],
      "execution_count": 0,
      "outputs": []
    },
    {
      "cell_type": "code",
      "metadata": {
        "id": "9rEiLd81idGo",
        "colab_type": "code",
        "colab": {}
      },
      "source": [
        ""
      ],
      "execution_count": 0,
      "outputs": []
    },
    {
      "cell_type": "code",
      "metadata": {
        "id": "Q4BYyELJgLxj",
        "colab_type": "code",
        "colab": {}
      },
      "source": [
        "news = soup.find(name=\"ul\", attrs={'class':\"item-list\",'id':'latest-news-list'})"
      ],
      "execution_count": 0,
      "outputs": []
    },
    {
      "cell_type": "code",
      "metadata": {
        "id": "WdhU68Qlk8Kn",
        "colab_type": "code",
        "colab": {}
      },
      "source": [
        "news.fin"
      ],
      "execution_count": 0,
      "outputs": []
    },
    {
      "cell_type": "code",
      "metadata": {
        "id": "S2grt18af4Rf",
        "colab_type": "code",
        "colab": {}
      },
      "source": [
        "root = \"https://seekingalpha.com\"\n",
        "heading_list = [i.text for i in news.find_all('a')]\n",
        "url_list = [root+i['href'] for i in news.find_all('a')]\n",
        "date_list = [i.text for i in news.find_all(name='span', attrs={'class':\"item-date\"})]\n"
      ],
      "execution_count": 0,
      "outputs": []
    },
    {
      "cell_type": "code",
      "metadata": {
        "id": "aKk_o2-YkUMj",
        "colab_type": "code",
        "colab": {}
      },
      "source": [
        "def getcontext(url):\n",
        "  soup = BeautifulSoup(requests.get(url).text)\n",
        "  contexts = soup.find_all(name='p', attrs={\"class\":\"bullets_li\"})\n",
        "  i=0\n",
        "  while (len(contexts)==0 and i<20 ):\n",
        "    soup = BeautifulSoup(requests.get(url).text)\n",
        "    contexts = soup.find_all(name='p', attrs={\"class\":\"bullets_li\"})\n",
        "    i+=1\n",
        "  context = [i.text for i in contexts]\n",
        "  return context"
      ],
      "execution_count": 0,
      "outputs": []
    },
    {
      "cell_type": "code",
      "metadata": {
        "id": "Vuucq9oFpd8w",
        "colab_type": "code",
        "colab": {
          "base_uri": "https://localhost:8080/",
          "height": 34
        },
        "outputId": "65c67698-07e3-4972-8711-5d7d9369e541"
      },
      "source": [
        "url_list[0]"
      ],
      "execution_count": 44,
      "outputs": [
        {
          "output_type": "execute_result",
          "data": {
            "text/plain": [
              "'https://seekingalpha.com/news/3479470-cbs-blacks-and-t-pay-tv-talks-impasse'"
            ]
          },
          "metadata": {
            "tags": []
          },
          "execution_count": 44
        }
      ]
    },
    {
      "cell_type": "code",
      "metadata": {
        "id": "VxpoH5dDrzpb",
        "colab_type": "code",
        "colab": {
          "base_uri": "https://localhost:8080/",
          "height": 34
        },
        "outputId": "71524db1-ad65-4b14-9beb-9457a25d17b4"
      },
      "source": [
        "len(url_list)"
      ],
      "execution_count": 57,
      "outputs": [
        {
          "output_type": "execute_result",
          "data": {
            "text/plain": [
              "60"
            ]
          },
          "metadata": {
            "tags": []
          },
          "execution_count": 57
        }
      ]
    },
    {
      "cell_type": "code",
      "metadata": {
        "id": "6r1NRZ7Kr5ip",
        "colab_type": "code",
        "colab": {}
      },
      "source": [
        ""
      ],
      "execution_count": 0,
      "outputs": []
    },
    {
      "cell_type": "code",
      "metadata": {
        "id": "psm8ZFN1pSN4",
        "colab_type": "code",
        "colab": {
          "base_uri": "https://localhost:8080/",
          "height": 153
        },
        "outputId": "f310e37d-5631-436d-b9a3-fcf262b74935"
      },
      "source": [
        "getcontext(url_list[2])"
      ],
      "execution_count": 82,
      "outputs": [
        {
          "output_type": "execute_result",
          "data": {
            "text/plain": [
              "['Solaris Oilfield Infrastructure (NYSE:SOI) reports 2Q19 prelim revenue of $63M-65M vs. consensus of $58.04M.',\n",
              " 'Total operating expense in the range of $36-37M.',\n",
              " 'Cash balance of ~$30M and no debt outstanding at June 30, 2019.',\n",
              " 'Fully utilized mobile proppant management systems averaged 123 systems.',\n",
              " 'Press Release',\n",
              " 'Click to subscribe to real-time analytics on SOI',\n",
              " 'Now read: Solaris Oilfield Infrastructure (SOI) Investor Presentation - Slideshow »',\n",
              " 'Subscribe for full text news in your inbox']"
            ]
          },
          "metadata": {
            "tags": []
          },
          "execution_count": 82
        }
      ]
    },
    {
      "cell_type": "code",
      "metadata": {
        "id": "NQ8PxRkgqVBt",
        "colab_type": "code",
        "colab": {}
      },
      "source": [
        "point_list =[getcontext(i) for i in url_list]"
      ],
      "execution_count": 0,
      "outputs": []
    },
    {
      "cell_type": "code",
      "metadata": {
        "id": "qnrup-VxqduF",
        "colab_type": "code",
        "colab": {}
      },
      "source": [
        "point_list"
      ],
      "execution_count": 0,
      "outputs": []
    },
    {
      "cell_type": "code",
      "metadata": {
        "id": "wLaK5PM9w7UT",
        "colab_type": "code",
        "colab": {}
      },
      "source": [
        "d={\"date\":date_list,\"heading\":heading_list,\"url\":url_list,\"summary\":point_list}"
      ],
      "execution_count": 0,
      "outputs": []
    },
    {
      "cell_type": "code",
      "metadata": {
        "id": "gFTKwYw9kJw5",
        "colab_type": "code",
        "colab": {}
      },
      "source": [
        "df = pd.DataFrame(d)"
      ],
      "execution_count": 0,
      "outputs": []
    },
    {
      "cell_type": "code",
      "metadata": {
        "id": "OLn3hiL9xO2v",
        "colab_type": "code",
        "colab": {
          "base_uri": "https://localhost:8080/",
          "height": 204
        },
        "outputId": "59fc1d88-e84d-4c34-da80-07b06bebf947"
      },
      "source": [
        "df.head(5)"
      ],
      "execution_count": 93,
      "outputs": [
        {
          "output_type": "execute_result",
          "data": {
            "text/html": [
              "<div>\n",
              "<style scoped>\n",
              "    .dataframe tbody tr th:only-of-type {\n",
              "        vertical-align: middle;\n",
              "    }\n",
              "\n",
              "    .dataframe tbody tr th {\n",
              "        vertical-align: top;\n",
              "    }\n",
              "\n",
              "    .dataframe thead th {\n",
              "        text-align: right;\n",
              "    }\n",
              "</style>\n",
              "<table border=\"1\" class=\"dataframe\">\n",
              "  <thead>\n",
              "    <tr style=\"text-align: right;\">\n",
              "      <th></th>\n",
              "      <th>date</th>\n",
              "      <th>heading</th>\n",
              "      <th>url</th>\n",
              "      <th>summary</th>\n",
              "    </tr>\n",
              "  </thead>\n",
              "  <tbody>\n",
              "    <tr>\n",
              "      <th>0</th>\n",
              "      <td>Yesterday, 3:11 AM</td>\n",
              "      <td>CBS blacks out on AT&amp;T pay TV with talks at im...</td>\n",
              "      <td>https://seekingalpha.com/news/3479470-cbs-blac...</td>\n",
              "      <td>[CBS stations blacked out on AT&amp;T (NYSE:T) pay...</td>\n",
              "    </tr>\n",
              "    <tr>\n",
              "      <th>1</th>\n",
              "      <td>Fri, Jul. 19, 10:30 PM</td>\n",
              "      <td>Equifax set to pay ~$700M to settle data breac...</td>\n",
              "      <td>https://seekingalpha.com/news/3479469-equifax-...</td>\n",
              "      <td>[Equifax (NYSE:EFX) is near a deal to pay ~$70...</td>\n",
              "    </tr>\n",
              "    <tr>\n",
              "      <th>2</th>\n",
              "      <td>Fri, Jul. 19, 9:15 PM</td>\n",
              "      <td>Solaris Oilfield Infrastructure reports 2Q19 p...</td>\n",
              "      <td>https://seekingalpha.com/news/3479467-solaris-...</td>\n",
              "      <td>[Solaris Oilfield Infrastructure (NYSE:SOI) re...</td>\n",
              "    </tr>\n",
              "    <tr>\n",
              "      <th>3</th>\n",
              "      <td>Fri, Jul. 19, 9:10 PM</td>\n",
              "      <td>Tellurian up 1.4% on potential share sales by ...</td>\n",
              "      <td>https://seekingalpha.com/news/3479466-telluria...</td>\n",
              "      <td>[Tellurian (TELL +1.4%) intends to offer 45.99...</td>\n",
              "    </tr>\n",
              "    <tr>\n",
              "      <th>4</th>\n",
              "      <td>Fri, Jul. 19, 8:55 PM</td>\n",
              "      <td>Ares Commercial Real Estate -1% on mixed secur...</td>\n",
              "      <td>https://seekingalpha.com/news/3479465-ares-com...</td>\n",
              "      <td>[Ares Commercial Real Estate (NYSE:ACRE) drops...</td>\n",
              "    </tr>\n",
              "  </tbody>\n",
              "</table>\n",
              "</div>"
            ],
            "text/plain": [
              "                     date  ...                                            summary\n",
              "0      Yesterday, 3:11 AM  ...  [CBS stations blacked out on AT&T (NYSE:T) pay...\n",
              "1  Fri, Jul. 19, 10:30 PM  ...  [Equifax (NYSE:EFX) is near a deal to pay ~$70...\n",
              "2   Fri, Jul. 19, 9:15 PM  ...  [Solaris Oilfield Infrastructure (NYSE:SOI) re...\n",
              "3   Fri, Jul. 19, 9:10 PM  ...  [Tellurian (TELL +1.4%) intends to offer 45.99...\n",
              "4   Fri, Jul. 19, 8:55 PM  ...  [Ares Commercial Real Estate (NYSE:ACRE) drops...\n",
              "\n",
              "[5 rows x 4 columns]"
            ]
          },
          "metadata": {
            "tags": []
          },
          "execution_count": 93
        }
      ]
    },
    {
      "cell_type": "code",
      "metadata": {
        "id": "d_Bj9jrkxP5_",
        "colab_type": "code",
        "colab": {}
      },
      "source": [
        ""
      ],
      "execution_count": 0,
      "outputs": []
    }
  ]
}